{
 "cells": [
  {
   "cell_type": "markdown",
   "metadata": {
    "collapsed": false
   },
   "source": [
    "## 赛事介绍\n",
    "如今的智能机已经很智能了，如果手机可以觉察到我们在生活中的一举一动，知道我们行动的意图，你觉得会如何？智能手机不仅搭载了多种惯性传感器，这使得基于智能手机的人体行为识别研究越来越受关注。\n",
    "\n",
    "![](https://ai-studio-static-online.cdn.bcebos.com/849f5b245156468c850ad6adad6f5ba649184a062cb44d128ba504c61652ae8a)\n",
    "\n",
    "在本次赛题由志愿者使用智能手机时，通过基本活动的行为构建而成。希望选手能够构建模型对活动行为进行预测。\n",
    "\n",
    "## 赛事任务\n",
    "实验是在 19-48 岁年龄段的 30 名志愿者中进行的。每个人在腰部佩戴智能手机（三星 Galaxy S II）进行六项活动（步行、楼上步行、楼下步行、坐、站、躺）。实验以 50Hz 的恒定速率捕获 3 轴线性加速度和 3 轴角速度。\n",
    "\n",
    "赛题训练集案例如下：\n",
    "- 训练集8千条数据；\n",
    "- 测试集共2000条数据；\n",
    "\n",
    "数据总共100MB，赛题数据均为csv格式，列使用逗号分割。若使用Pandas读取数据，可参考如下代码：\n",
    "\n",
    "```\n",
    "import pandas as pd\n",
    "import numpy as np\n",
    "\n",
    "train = pd.read_csv('train.csv.zip')\n",
    "```\n",
    "\n",
    "对于数据集中的每一条记录，都提供了以下内容，来自加速度计的三轴加速度（总加速度）和估计的身体加速度、和来自陀螺仪的三轴角速度。总共是具有时域和频域变量的561个特征向量。\n",
    "\n",
    "测试集中label字段Activity为空，需要选手预测。\n",
    "\n",
    "## 评审规则\n",
    "\n",
    "1. 数据说明：选手需要提交测试集队伍排名预测，具体的提交格式如下：\n",
    "```\n",
    "Activity\n",
    "STANDING\n",
    "LAYING\n",
    "WALKING\n",
    "SITTING\n",
    "WALKING\n",
    "WALKING_DOWNSTAIRS\n",
    "STANDING\n",
    "```\n",
    "\n",
    "2. 评估指标：本次竞赛的使用准确率进行评分，数值越高精度越高，评估代码参考：\n",
    "```\n",
    "from sklearn.metrics import accuracy_score\n",
    "y_pred = [0, 2, 1, 3]\n",
    "y_true = [0, 1, 2, 3]\n",
    "accuracy_score(y_true, y_pred)\n",
    "```"
   ]
  },
  {
   "cell_type": "markdown",
   "metadata": {
    "collapsed": false
   },
   "source": [
    "## Baseline使用指导\n",
    "1、点击‘fork按钮’，出现‘fork项目’弹窗         \n",
    "2、点击‘创建按钮’ ，出现‘运行项目’弹窗    \n",
    "3、点击‘运行项目’，自动跳转至新页面      \n",
    "4、点击‘启动环境’ ，出现‘选择运行环境’弹窗     \n",
    "5、选择运行环境（启动项目需要时间，请耐心等待），出现‘环境启动成功’弹窗，点击确定        \n",
    "6、点击进入环境，即可进入notebook环境      \n",
    "7、鼠标移至下方每个代码块内（代码块左侧边框会变成浅蓝色），再依次点击每个代码块左上角的‘三角形运行按钮’，待一个模块运行完以后再运行下一个模块，直至全部运行完成  \n",
    "![](https://ai-studio-static-online.cdn.bcebos.com/226c72f88f5b4e9d8a55e59129e4c79770aa200f10ef413ca1420ae7d273bc88)  \n",
    "![](https://ai-studio-static-online.cdn.bcebos.com/866a22a341d64166aaf9a8a3abee09b5a6e2d0cba1c649bb8bdef6b2ad7955f1)  \n",
    "    \n",
    "8、下载页面左侧submission.zip压缩包  \n",
    "![](https://ai-studio-static-online.cdn.bcebos.com/b7f3076301e34462abaf2013dcdbf10a5dcbfe287d5845f1869493e578391f7a)  \n",
    "     \n",
    "9、在比赛页提交submission.zip压缩包，等待系统评测结束后，即可登榜！    \n",
    "![](https://ai-studio-static-online.cdn.bcebos.com/95a9fc4140144a2d8a76258f7a536751c5c6969994154d3da71c80e23757c6c8)  \n",
    "       \n",
    "10、点击页面左侧‘版本-生成新版本’  \n",
    "![](https://ai-studio-static-online.cdn.bcebos.com/e62d0f5ca1454f7485c3eb1351823315480356cafad143c2ab2ff065f95104fe)  \n",
    "        \n",
    "11、填写‘版本名称’，点击‘生成版本按钮’，即可在个人主页查看到该项目（可选择公开此项目哦）  "
   ]
  },
  {
   "cell_type": "markdown",
   "metadata": {
    "collapsed": false
   },
   "source": [
    "## 数据分析"
   ]
  },
  {
   "cell_type": "code",
   "execution_count": 1,
   "metadata": {
    "collapsed": false
   },
   "outputs": [
    {
     "name": "stderr",
     "output_type": "stream",
     "text": [
      "/opt/conda/envs/python35-paddle120-env/lib/python3.7/site-packages/matplotlib/__init__.py:107: DeprecationWarning: Using or importing the ABCs from 'collections' instead of from 'collections.abc' is deprecated, and in 3.8 it will stop working\n",
      "  from collections import MutableMapping\n",
      "/opt/conda/envs/python35-paddle120-env/lib/python3.7/site-packages/matplotlib/rcsetup.py:20: DeprecationWarning: Using or importing the ABCs from 'collections' instead of from 'collections.abc' is deprecated, and in 3.8 it will stop working\n",
      "  from collections import Iterable, Mapping\n",
      "/opt/conda/envs/python35-paddle120-env/lib/python3.7/site-packages/matplotlib/colors.py:53: DeprecationWarning: Using or importing the ABCs from 'collections' instead of from 'collections.abc' is deprecated, and in 3.8 it will stop working\n",
      "  from collections import Sized\n"
     ]
    },
    {
     "name": "stdout",
     "output_type": "stream",
     "text": [
      "Populating the interactive namespace from numpy and matplotlib\n"
     ]
    }
   ],
   "source": [
    "import pandas as pd\n",
    "import paddle\n",
    "import numpy as np\n",
    "\n",
    "%pylab inline\n",
    "import seaborn as sns\n",
    "\n",
    "train_df = pd.read_csv('data/data137267/train.csv.zip')\n",
    "test_df = pd.read_csv('data/data137267/test.csv.zip')"
   ]
  },
  {
   "cell_type": "code",
   "execution_count": 2,
   "metadata": {
    "collapsed": false
   },
   "outputs": [],
   "source": [
    "train_df['Activity'] = train_df['Activity'].map({\n",
    "    'LAYING': 0,\n",
    "    'STANDING': 1,\n",
    "    'SITTING': 2,\n",
    "    'WALKING': 3,\n",
    "    'WALKING_UPSTAIRS': 4,\n",
    "    'WALKING_DOWNSTAIRS': 5\n",
    "})"
   ]
  },
  {
   "cell_type": "markdown",
   "metadata": {
    "collapsed": false
   },
   "source": [
    "## 对数据进行标准化处理，使数据均值为0，方差为1"
   ]
  },
  {
   "cell_type": "code",
   "execution_count": 3,
   "metadata": {
    "collapsed": false
   },
   "outputs": [],
   "source": [
    "from sklearn.preprocessing import StandardScaler\n",
    "\n",
    "scaler = StandardScaler()   #标准化，均值为0，方差为1\n",
    "scaler.fit(train_df.values[:, :-1])\n",
    "train_df.iloc[:, :-1] = scaler.transform(train_df.values[:, :-1])\n",
    "test_df.iloc[:, :] = scaler.transform(test_df.values)"
   ]
  },
  {
   "cell_type": "markdown",
   "metadata": {
    "collapsed": false
   },
   "source": [
    "## 利用GradientBoosting对数据特征进行排序，并且生成特征索引列表"
   ]
  },
  {
   "cell_type": "code",
   "execution_count": null,
   "metadata": {
    "collapsed": false
   },
   "outputs": [],
   "source": [
    "columns = train_df.columns\n",
    "features_columns = columns.delete(len(columns) - 1)  #去掉最后的分类结果\n",
    "features = train_df[features_columns]\n",
    "labels = train_df['Activity']\n",
    "\n",
    "\n",
    "\n",
    "# The labels are in the last column ('Class'). Simply remove it to obtain features columns\n",
    "from sklearn.ensemble import GradientBoostingClassifier\n",
    "clf = GradientBoostingClassifier()\n",
    "X_train  = train_df.iloc[:,:-1]\n",
    "y_train = train_df[\"Activity\"]\n",
    "clf.fit(X_train,y_train)\n",
    "#这个值就是属性重要性的量化\n",
    "feature_importance = clf.feature_importances_     #找到重要特征\n",
    "cols = X_train.columns\n",
    "\n",
    "\n",
    "\n",
    "#从大到小进行排序，就可以看出来那个属性重要了\n",
    "index = feature_importance.argsort()[::-1]  #由于数据量非常大，排序所用的时间非常的长"
   ]
  },
  {
   "cell_type": "code",
   "execution_count": 7,
   "metadata": {
    "collapsed": false
   },
   "outputs": [],
   "source": [
    "\n",
    "importance_feature=list(index)     #将index转化为列表\n"
   ]
  },
  {
   "cell_type": "code",
   "execution_count": 10,
   "metadata": {
    "collapsed": false
   },
   "outputs": [
    {
     "name": "stdout",
     "output_type": "stream",
     "text": [
      "[ 52   9  56  41  53 274 504  50 445 276 348  69  73 508 316 503 201 182\n",
      "   4  62 450 451 302 351  84 354 296 295 228 209  37 397 434 275 139 214\n",
      "  63  40 142  74  22  89 117 433 268  25 145 369 233 459 449 104 205 559\n",
      " 429  51 280 456  67 105 159  70 557 222 166 507 132 185 457 158 474 558\n",
      "  66 458 371 144 269  55 310   3 301 518 509 179  57 141  54 352 330 314\n",
      " 300 556 454   5 290 184 374 446 128 298 537 100  75  71 271 345 544  65\n",
      "  38 265  92 426 239 297 372  28  85  42 163 521 135  39 197 113 549 131\n",
      " 526 196  24   6 102 149 527  95 447  77 129 176 143 247 198  68 461 281\n",
      " 215  78 120 368 152 126 299 218 199 202 157  72  87 167 361 432 505  93\n",
      " 193 376 192 289 325 428 349 266  58 317  86 256 186 223 150 257 353 430\n",
      " 251 291 560 172 183 541 248 262 138 118 442 240 431 339 411 421 282 551\n",
      " 232 502  15 216 492 253 403 210 512 133 536  36 462 191  79 170 169  90\n",
      " 373 270 154 227 318 494 112  45 109 319 343  91 402 516 515  16 493 220\n",
      "  61 307 475 236 417 204 480 464 362 171 499 181 279  21 422 203 308 107\n",
      " 226 322 292 127 175 525 491 455 375 326  10 496  49 125 350 392 548 101\n",
      "   0  23 168 399 315 177  13 539 408  30 553 517 286 425 341 407 440 332\n",
      " 140  26 510  32 178 483 398 416 467 306 546 435 114 173 165 535 337 497\n",
      " 531 106 513 311 340 360 404 423 393 136 225 162 490 381 153 285 448 384\n",
      " 396   7 313 122 261 309 377 344 108 391  12 395 283 189 543 355  43 252\n",
      " 342 213 359 161 378 180 511 254 130 334 156 303 370  20  64 304 116  44\n",
      " 238 382  97 320 386 545  31 250   2 538 465 115 427 528 389 484 155 415\n",
      " 147 534 207 530 235 324 187 234 243  83 436  81 367 485 380 293 478 365\n",
      " 410 277 259 124 288 424 472 488 272 486 284 476 443  60  94 385 200  46\n",
      " 506  11 103 244 338 364 412 379 110 123 419 554 331 328 329 208 164  98\n",
      " 463 394 413 437 406  76 363 312 469 206 487 468 255  47 479  59 477 336\n",
      " 333 495  17  27   8 542 190 260  99 388 470 418 460 219 529 335  80 195\n",
      " 439 346 323 366 420  33 121 230 111 532 519 224 473 347 552 358 151 550\n",
      " 229  82 231 514 547   1 555 383  14  18  19 357 390 356  34  35 540 387\n",
      "  48  29 401 533 452 414 273 267 264 263 174 466 258 249 453 194 246 524\n",
      " 444 245 441 242 241 211 212 438 217 221 237 160 471 148 146 523 522 520\n",
      " 501 500  88 327 498  96 321 305 400 405 119 489 294 409 134 287 137 482\n",
      " 481 278 188]\n"
     ]
    }
   ],
   "source": [
    "print(index)"
   ]
  },
  {
   "cell_type": "markdown",
   "metadata": {
    "collapsed": false
   },
   "source": [
    "## 搭建模型"
   ]
  },
  {
   "cell_type": "markdown",
   "metadata": {
    "collapsed": false
   },
   "source": [
    "## 调用sklearn中的SVM进行模型训练并打印出模型的准确率"
   ]
  },
  {
   "cell_type": "code",
   "execution_count": 8,
   "metadata": {
    "collapsed": false
   },
   "outputs": [
    {
     "name": "stdout",
     "output_type": "stream",
     "text": [
      "updating: submission.csv (deflated 93%)\n",
      "0.98375\n"
     ]
    }
   ],
   "source": [
    "# 使用sklearn中的SVM\n",
    "import sklearn.svm as svm\n",
    "from sklearn.model_selection import KFold,cross_val_score as CVS,train_test_split as TTS\n",
    "from sklearn.metrics import accuracy_score\n",
    "\n",
    "train_X = train_df.iloc[:,importance_feature[:89]] #提取特征集\n",
    "train_Y = train_df['Activity'] #提取标签\n",
    "test_X = test_df.iloc[:,importance_feature[:89]]\n",
    "xtrain,xtest,ytrain,ytest = TTS(train_X,train_Y,test_size = 0.1, random_state = 180)\n",
    "\n",
    "clf = svm.SVC(kernel='rbf',C = 6.5,gamma=0.0445)  #linear poly rbf sigmoid\n",
    "clf.fit(xtrain, ytrain)\n",
    "ytest_pred = clf.predict(xtest)\n",
    "#模型的测试结果\n",
    "ACC = accuracy_score(ytest,ytest_pred)\n",
    "\n",
    "#用于提交的测试结果\n",
    "test_predict = clf.predict(test_X)\n",
    "test_predict = pd.DataFrame({'Activity': test_predict})\n",
    "test_predict['Activity'] = test_predict['Activity'].map({\n",
    "    0:'LAYING',\n",
    "    1:'STANDING',\n",
    "    2:'SITTING',\n",
    "    3:'WALKING',\n",
    "    4:'WALKING_UPSTAIRS',\n",
    "    5:'WALKING_DOWNSTAIRS'\n",
    "})\n",
    "\n",
    "test_predict.to_csv('submission.csv', index=None)\n",
    "\n",
    "!zip submission.zip submission.csv\n",
    "print(ACC)"
   ]
  },
  {
   "cell_type": "code",
   "execution_count": null,
   "metadata": {
    "collapsed": false
   },
   "outputs": [],
   "source": []
  },
  {
   "cell_type": "markdown",
   "metadata": {
    "collapsed": false
   },
   "source": [
    "## 未来上分点\n",
    "\n",
    "1. 模型可以加入残差结构，参考resnet。\n",
    "2. 数据可以加入数据扩增，比如加噪音。"
   ]
  },
  {
   "cell_type": "code",
   "execution_count": null,
   "metadata": {
    "collapsed": false
   },
   "outputs": [],
   "source": []
  }
 ],
 "metadata": {
  "kernelspec": {
   "display_name": "Python 3",
   "language": "python",
   "name": "py35-paddle1.2.0"
  },
  "language_info": {
   "codemirror_mode": {
    "name": "ipython",
    "version": 3
   },
   "file_extension": ".py",
   "mimetype": "text/x-python",
   "name": "python",
   "nbconvert_exporter": "python",
   "pygments_lexer": "ipython3",
   "version": "3.7.4"
  }
 },
 "nbformat": 4,
 "nbformat_minor": 1
}
